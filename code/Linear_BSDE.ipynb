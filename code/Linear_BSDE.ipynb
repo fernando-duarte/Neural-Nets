{
 "cells": [
  {
   "cell_type": "markdown",
   "metadata": {},
   "source": [
    "Overview\n",
    "\n",
    "\n",
    "Let $T>0$ be the terminal time, and ${W}_{t_0 \\leq t \\leq T}$ be a standard $d$-dimensional Brownian motion. Consider the following linear BSDE\n",
    "\n",
    "$-dY_t  = (A_t Y_t + Z_t.B_t + C_t)dt - Z_t.dW_t, Y_T = \\xi. $ \n",
    "\n",
    "where $Y_t$ and $Z_t$ are of dimension $d \\times 1$, $A_t$ is $d \\times d$, $B_t$ is $d \\times 1$, and $C_t$ is $d \\times 1$. The notation $Z_t.B_t$ (with a dot) means element-wise multiplication.\n",
    "\n",
    "From Pham (2009), we know that the solution $Y_t$ is given by: \n",
    "\n",
    "$\\Gamma_t Y_t = E[\\Gamma_T \\xi + \\int_t^T \\Gamma_s C_s ds|F_t]$, where $d\\Gamma_t = \\Gamma_t (A_t dt + B_t.dW_t), \\Gamma_0 = 1$. \n",
    "\n",
    "We try to find this solution both analytically and via simulation.\n",
    "\n",
    "First we will set up the problem and use gradient descent to determine the optimal $Y_0$ and $Z_0$ in the case where $A,B,C$ are all constant. \n"
   ]
  },
  {
   "cell_type": "code",
   "execution_count": 5,
   "metadata": {},
   "outputs": [
    {
     "name": "stderr",
     "output_type": "stream",
     "text": [
      "\u001b[32m\u001b[1m   Building\u001b[22m\u001b[39m SLEEFPirates → `~/.julia/packages/SLEEFPirates/jGsib/deps/build.log`\n",
      "\u001b[32m\u001b[1m   Building\u001b[22m\u001b[39m Random123 ───→ `~/.julia/packages/Random123/Y2Du3/deps/build.log`\n",
      "\u001b[32m\u001b[1m  Resolving\u001b[22m\u001b[39m package versions...\n",
      "\u001b[32m\u001b[1m   Updating\u001b[22m\u001b[39m `~/.julia/environments/v1.4/Project.toml`\n",
      "\u001b[90m [no changes]\u001b[39m\n",
      "\u001b[32m\u001b[1m   Updating\u001b[22m\u001b[39m `~/.julia/environments/v1.4/Manifest.toml`\n",
      "\u001b[90m [no changes]\u001b[39m\n",
      "\u001b[32m\u001b[1m  Resolving\u001b[22m\u001b[39m package versions...\n",
      "\u001b[32m\u001b[1m   Updating\u001b[22m\u001b[39m `~/.julia/environments/v1.4/Project.toml`\n",
      "\u001b[90m [no changes]\u001b[39m\n",
      "\u001b[32m\u001b[1m   Updating\u001b[22m\u001b[39m `~/.julia/environments/v1.4/Manifest.toml`\n",
      "\u001b[90m [no changes]\u001b[39m\n",
      "\u001b[32m\u001b[1m  Resolving\u001b[22m\u001b[39m package versions...\n",
      "\u001b[32m\u001b[1m   Updating\u001b[22m\u001b[39m `~/.julia/environments/v1.4/Project.toml`\n",
      "\u001b[90m [no changes]\u001b[39m\n",
      "\u001b[32m\u001b[1m   Updating\u001b[22m\u001b[39m `~/.julia/environments/v1.4/Manifest.toml`\n",
      "\u001b[90m [no changes]\u001b[39m\n"
     ]
    }
   ],
   "source": [
    "### Packages\n",
    "#import Pkg; Pkg.build(\"DifferentialEquations\") \n",
    "import Pkg; Pkg.add(\"DifferentialEquations\")\n",
    "import Pkg; Pkg.add(\"IterTools\")\n",
    "import Pkg; Pkg.add(\"DiffEqBase\")\n",
    "\n",
    "using Distributed\n",
    "using DifferentialEquations\n",
    "using Flux\n",
    "using DifferentialEquations.EnsembleAnalysis\n",
    "using IterTools: ncycle\n",
    "using Flux: @epochs\n",
    "using DiffEqSensitivity\n",
    "using Statistics\n",
    "using DiffEqFlux\n",
    "using DiffEqBase.EnsembleAnalysis\n"
   ]
  },
  {
   "cell_type": "code",
   "execution_count": 6,
   "metadata": {},
   "outputs": [
    {
     "data": {
      "text/plain": [
       "10-element Array{Float64,1}:\n",
       " -5.0\n",
       " -5.0\n",
       " -5.0\n",
       " -5.0\n",
       " -5.0\n",
       " 10.0\n",
       " 10.0\n",
       " 10.0\n",
       " 10.0\n",
       " 10.0"
      ]
     },
     "execution_count": 6,
     "metadata": {},
     "output_type": "execute_result"
    }
   ],
   "source": [
    "\n",
    "### Setting up the problem\n",
    "T = 1.0f0\n",
    "tspan = (0.0f0,T)\n",
    "d = 5 #number of dimensions\n",
    "m=[1.0,1.0,1.0,1.0,1.0] # mean for the ith dimension\n",
    "v=[1.0,1.0,1.0,1.0,1.0] # variance for the ith dimension for Y_T\n",
    "A = [1.0 0.0 0.0 0.0 0.0;\n",
    "    0.0 1.0 0.0 0.0 0.0;\n",
    "    0.0 0.0 1.0 0.0 0.0;\n",
    "    0.0 0.0 0.0 1.0 0.0;\n",
    "    0.0 0.0 0.0 0.0 1.0] # dxd matrix\n",
    "B = [1.0,1.0,1.0,1.0,1.0] # dx1 matrix\n",
    "C = [1.0,1.0,1.0,1.0,1.0] # dx1 matrix\n",
    "u0 = [10.0,10.0,10.0,10.0,10.0] # initial guess for Y_0\n",
    "Z = [-5.0,-5.0,-5.0,-5.0,-5.0] # Guess for Z\n",
    "p = [Z;u0] # parameters to update (specifically initial position of Y and Z)"
   ]
  },
  {
   "cell_type": "code",
   "execution_count": 7,
   "metadata": {},
   "outputs": [
    {
     "name": "stdout",
     "output_type": "stream",
     "text": [
      "  2.235498 seconds (5.16 M allocations: 233.813 MiB, 1.96% gc time)\n"
     ]
    }
   ],
   "source": [
    "## Setting up the drift and stochastic portions\n",
    "\n",
    "function drift_nn!(du,u,p,t)\n",
    "    du[1:d] = -(A*u + B.*p[1:d] + C)\n",
    "end\n",
    "\n",
    "function stoch_nn!(du,u,p,t)\n",
    "    du[1:d] = p[1:d]\n",
    "end\n",
    "\n",
    "probSDE = SDEProblem(drift_nn!,stoch_nn!,p[end-d+1:end],tspan,p=p)\n",
    "tmp_prob = remake(probSDE,p=p,u0=p[end-d+1:end])\n",
    "ensemble_prob = gpu(EnsembleProblem(tmp_prob))\n",
    "@time sol = solve(ensemble_prob,EM(),saveat = T,EnsembleThreads(), trajectories=1000,dt=0.05) # now uses EM() instead of EM()\n",
    "arrsol = Array(sol);"
   ]
  },
  {
   "cell_type": "markdown",
   "metadata": {},
   "source": [
    "<font color=blue>`EulerHeun` is for Stratonovich stochastic integrals. The analogous method for the Ito integrals that we consider here is `EM` (See [here](https://diffeq.sciml.ai/v3.0/solvers/sde_solve.html)). Obviously, there was no way to know which definition of stochastic integral we were using. I've changed all `EulerHeun` to `EM`.</font>\n"
   ]
  },
  {
   "cell_type": "code",
   "execution_count": 9,
   "metadata": {},
   "outputs": [
    {
     "data": {
      "text/plain": [
       "10-element Array{Float64,1}:\n",
       " -5.0\n",
       " -5.0\n",
       " -5.0\n",
       " -5.0\n",
       " -5.0\n",
       " 10.0\n",
       " 10.0\n",
       " 10.0\n",
       " 10.0\n",
       " 10.0"
      ]
     },
     "metadata": {},
     "output_type": "display_data"
    },
    {
     "data": {
      "text/plain": [
       "657.0904741240597"
      ]
     },
     "metadata": {},
     "output_type": "display_data"
    }
   ],
   "source": [
    "function loss(p)\n",
    "    tmp_prob = remake(probSDE,p=p,u0=p[end-d+1:end])\n",
    "    #ensemble_prob = gpu(EnsembleProblem(tmp_prob))\n",
    "    #sim = solve(ensemble_prob,EM(),saveat = T,EnsembleThreads(),trajectories=1000, dt=0.05) \n",
    "    ensemble_prob = EnsembleProblem(tmp_prob)\n",
    "    sim = solve(ensemble_prob,EM(),saveat = T,EnsembleThreads(),trajectories=1000, dt=0.05) # See comment in cell below\n",
    "    arrsol = Array(sim)\n",
    "    loss = sum((m .- mean(arrsol,dims=3)[:,2]).^2) + sum((v .- var(arrsol,dims=3)[:,2]).^2)\n",
    "end\n",
    "\n",
    "display(p)\n",
    "display(loss(p))"
   ]
  },
  {
   "cell_type": "markdown",
   "metadata": {},
   "source": [
    "<font color=blue> Does `EnsembleThreads()` work faster if `ensemble_prob` is in the gpu? I would have imagined that it would move the data back and forth between the gpu and the processor threads. I will need a refresher from you on how the parallelization/gpu works. For `EnsembleThreads()`, did I have configure anything in Julia before running the code (like that initialization script we had discussed)?</font>"
   ]
  },
  {
   "cell_type": "code",
   "execution_count": null,
   "metadata": {},
   "outputs": [],
   "source": [
    "### Training the model\n",
    "\n",
    "opt = ADAM(1.0)\n",
    "@time res = DiffEqFlux.sciml_train(loss,p,opt, maxiters = 20)\n",
    "\n",
    "opt = ADAM(0.1)\n",
    "@time res2 = DiffEqFlux.sciml_train(loss,res.minimizer,opt, maxiters = 20)\n",
    "\n",
    "opt = ADAM(0.01)\n",
    "@time res3 = DiffEqFlux.sciml_train(loss,res2.minimizer,opt, maxiters = 50)\n",
    "\n",
    "display(res3.minimizer)"
   ]
  },
  {
   "cell_type": "markdown",
   "metadata": {},
   "source": [
    "As you can see, the solutions for each path are similar, with $Z = 1.35$, $Y_0 = 8.80$. This is because each path has identical values for $A$, $B$, $C$ and the distribution of $Y_T$. To present the mean path:   "
   ]
  },
  {
   "cell_type": "code",
   "execution_count": 14,
   "metadata": {},
   "outputs": [
    {
     "data": {
      "text/plain": [
       "5×21×1 Array{Float64,3}:\n",
       "[:, :, 1] =\n",
       " 6.64572  6.20082  5.78937  5.37712  …  1.39464  1.21783  1.05568  0.859898\n",
       " 6.58445  6.14199  5.71626  5.31466     1.4313   1.23961  1.06485  0.889151\n",
       " 6.71965  6.26219  5.83435  5.43347     1.44859  1.24677  1.0718   0.905797\n",
       " 6.65203  6.20328  5.76715  5.37565     1.3955   1.19475  1.00728  0.836625\n",
       " 6.47671  6.02826  5.62071  5.21583     1.3914   1.20177  1.04469  0.881059"
      ]
     },
     "metadata": {},
     "output_type": "display_data"
    },
    {
     "name": "stdout",
     "output_type": "stream",
     "text": [
      "  0.046737 seconds (617.01 k allocations: 44.686 MiB)\n"
     ]
    }
   ],
   "source": [
    "probSDE = SDEProblem(drift_nn!,stoch_nn!,res3.minimizer[end-d+1:end],tspan,p=res3.minimizer)\n",
    "tmp_prob = remake(probSDE,p=res3.minimizer,u0=res3.minimizer[end-d+1:end])\n",
    "ensemble_prob = gpu(EnsembleProblem(tmp_prob))\n",
    "@time sol = solve(ensemble_prob,EM(),EnsembleThreads(), trajectories=1000,dt=0.05)\n",
    "arrsol = Array(sol)\n",
    "display(mean(arrsol,dims=3)) # this gives us the mean value of Y_t at each point in time with the final point being Y_T. "
   ]
  },
  {
   "cell_type": "markdown",
   "metadata": {},
   "source": [
    "Now we will revisit the problem to try to find an analytic solution to ensure that our values for $Y_t$ and $Z_t$ are accurate besides just looking at the loss function. \n",
    "\n",
    "The unique solution $Y$ to the linear BSDE is given by $\\Gamma_t Y_t = E[\\Gamma_T \\xi + \\int_t^T \\Gamma_s C_s ds|F_t],$ where $\\Gamma$ is the adjoint process solution to the linear SDE $d\\Gamma_t =\\Gamma_t(A_tdt+B_t.dW_t), \\Gamma_0 = 1.$  \n",
    "\n",
    "We use the short-hand notation $E_t[\\cdot]= E[\\cdot|F_t]$. We can simplify saying: $\\Gamma_t Y_t = E_t[\\Gamma_T] E_t[\\xi] + \\int_t^T E_t[\\Gamma_s C_s] ds$. \n",
    "\n",
    "We can rewrite $\\Gamma_t$ in two ways: either\n",
    "\n",
    "(1) $\\Gamma_t = exp (\\int_0^t B_s dW_s - \\frac{1}{2} \\int_0^t {B_s}^2 ds + \\int_0^t A_s ds)$.\n",
    "\n",
    "(2) $\\Gamma_t = exp (B_t dW_s + (A_t - \\frac{1}{2} B_t^2)dt)$. <font color=blue> I don't think (2) makes sense -- the exponential of dW and dt is not well-defined</font>\n",
    "\n",
    "Using (2), when $B_t,A_t,C_t$ are constant, we can say: \n",
    "\n",
    "$\\Gamma_t = E_t[exp(B dW_s + (A - \\frac{1}{2} B^2)dt)]$.\n",
    "\n",
    "$\\Gamma_t = exp((B + A - \\frac{1}{2} B^2)t)$\n",
    "\n",
    "Illustrating this analytically: "
   ]
  },
  {
   "cell_type": "code",
   "execution_count": 17,
   "metadata": {},
   "outputs": [
    {
     "name": "stdout",
     "output_type": "stream",
     "text": [
      "  5.379063"
     ]
    },
    {
     "data": {
      "text/plain": [
       "5×201×1 Array{Float64,3}:\n",
       "[:, :, 1] =\n",
       " 1.0  1.00687  1.01447  1.02165  …  4.44677  4.48434  4.51715  4.54567\n",
       " 1.0  1.00682  1.01459  1.02226     4.50613  4.54165  4.57592  4.60716\n",
       " 1.0  1.00656  1.01445  1.02179     4.29179  4.32905  4.3645   4.40851\n",
       " 1.0  1.00703  1.01535  1.02475     4.4125   4.45826  4.50048  4.53361\n",
       " 1.0  1.00653  1.01404  1.02227     4.33236  4.36162  4.3954   4.41748"
      ]
     },
     "metadata": {},
     "output_type": "display_data"
    },
    {
     "name": "stdout",
     "output_type": "stream",
     "text": [
      " seconds (36.22 M allocations: 1.986 GiB, 15.51% gc time)\n"
     ]
    }
   ],
   "source": [
    "T = 1.0f0\n",
    "tspan = (0.0f0,T)\n",
    "\n",
    "gamma_0 = [1.0, 1.0, 1.0, 1.0, 1.0]\n",
    "\n",
    "function drift_gamma!(du,u,p,t)\n",
    "    #du[1:d] = [A[1,1] A[2,2] A[3,3] A[4,4] A[5,5]] \n",
    "    du[1:d] = A*u\n",
    "end\n",
    "\n",
    "function stoch_gamma!(du,u,p,t)\n",
    "    #du[1:d] = B\n",
    "     du[1:d] = B.*u\n",
    "end\n",
    "\n",
    "prob = SDEProblem(drift_gamma!,stoch_gamma!,gamma_0,tspan)\n",
    "ensemble_prob = gpu(EnsembleProblem(prob))\n",
    "@time sol = solve(ensemble_prob,EM(),EnsembleThreads(), trajectories=10000,dt=0.005)\n",
    "arrsol = Array(sol)\n",
    "display(mean(arrsol,dims=3))"
   ]
  },
  {
   "cell_type": "code",
   "execution_count": 18,
   "metadata": {},
   "outputs": [
    {
     "data": {
      "text/plain": [
       "4.4816890703380645"
      ]
     },
     "execution_count": 18,
     "metadata": {},
     "output_type": "execute_result"
    }
   ],
   "source": [
    "ℯ^(([A[1,1] A[2,2] A[3,3] A[4,4] A[5,5]]' .- (B.^2 ./ 2) .+ B)*T)[1]"
   ]
  },
  {
   "cell_type": "markdown",
   "metadata": {},
   "source": [
    "For this example (and all others where A and B aren't a function of t), the math works out. \n",
    "\n",
    "Now, back to our original reason for understanding $\\Gamma_t$. \n",
    "\n",
    "We say: $\\Gamma_t Y_t = E[\\Gamma_T \\xi + \\int_t ^T \\Gamma_s C_s ds|F_t]$ \n",
    "\n",
    "Substituting our value for $\\Gamma_t$ into the equation (and assuming $A, B, C$ are constant) we get: \n",
    "\n",
    "$exp((B + A - \\frac{1}{2} B^2)t) Y_t = exp((B + A - \\frac{1}{2} B^2)T) E_t[\\xi] + \\int_t^T C exp((B + A - \\frac{1}{2} B^2)s)  ds$\n",
    "\n",
    "When t = T we get: \n",
    "\n",
    "$Y_T = \\xi$, which makes sense.\n",
    "\n",
    "When t = 0 we get: \n",
    "\n",
    "$Y_0 = exp(B+A-\\frac{1}{2}B^2) T)  E_t[\\xi] + C \\int_0^T  exp{(B + A - \\frac{1}{2} B^2)s}  ds$\n",
    "\n",
    "\n",
    "Solving for the case A = B = C = T = 1 and $\\xi \\sim N(1,1)$:\n",
    "\n",
    "$Y_0 =  exp(3/2) + \\int_0^1 exp(3s/2) ds$. \n",
    "\n",
    "$Y_0 = exp(3/2) + (2exp(3/2) - 2)/3$, which is the solution we get from simulation. \n",
    "\n"
   ]
  },
  {
   "cell_type": "code",
   "execution_count": 94,
   "metadata": {},
   "outputs": [
    {
     "data": {
      "text/plain": [
       "6.802815117230107"
      ]
     },
     "execution_count": 94,
     "metadata": {},
     "output_type": "execute_result"
    }
   ],
   "source": [
    "ℯ^(3/2) + (2*ℯ^(3/2)-2)/3"
   ]
  },
  {
   "cell_type": "code",
   "execution_count": 97,
   "metadata": {},
   "outputs": [
    {
     "data": {
      "text/plain": [
       "10-element Array{Float64,1}:\n",
       " 1.4508912511387506\n",
       " 1.5239255366211126\n",
       " 1.2520843697505666\n",
       " 1.3821145007148052\n",
       " 1.2465729407748982\n",
       " 6.726154133924283\n",
       " 6.987599800913823\n",
       " 6.547568369180367\n",
       " 6.6466004804729275\n",
       " 6.536089299876388"
      ]
     },
     "execution_count": 97,
     "metadata": {},
     "output_type": "execute_result"
    }
   ],
   "source": [
    "res3.minimizer"
   ]
  },
  {
   "cell_type": "markdown",
   "metadata": {},
   "source": [
    "Now let's consider the case where $A$, $B$, or $C$ are not constant with respect to time. We'll work case by case:\n",
    "\n",
    "Case 1: $C$ not constant with respect to time. \n",
    "\n",
    "First, let's consider the case where $A$ and $B$ are constant with respect to time. The solution for $\\Gamma_t$ is identical because $\\Gamma_t$ is not a function of $C$. \n",
    "\n",
    "We say: $\\Gamma_t Y_t = E[\\Gamma_T \\xi + \\int_t ^T \\Gamma_s C_s ds|F_t]$ \n",
    "\n",
    "Substituting our value for $\\Gamma_t$ into the equation (and assuming $A, B, C$ are constant) we get: \n",
    "\n",
    "$exp((B + A - \\frac{1}{2} B^2)*t) Y_t = exp((B + A - \\frac{1}{2} B^2)*T) * \\xi + * \\int_t^T C* exp((B + A - \\frac{1}{2} B^2)*s)  ds$\n",
    "\n",
    "Let $A = B= 1$. Let $\\Xi ~ N(1,1)$. Let $C_t = t$ for example: \n",
    "\n",
    "$exp(3t/2) Y_t = exp(3T/2) * \\Xi +  \\int_t^T s * exp(3s/2)  ds$\n",
    "\n",
    "$exp(3t/2) Y_t = exp(3/2) *\\Xi + ((6T - 4)exp(3T/2) + (4-6t)exp(3t/2))/9$\n",
    "\n",
    "For $t = T$, the solution is $Y_t = \\Xi$.\n",
    "\n",
    "For $t = 0$, the solution is $Y_0 = exp(3/2) + (2 exp(3/2) - 2(exp(0))/9$\n",
    "\n",
    "\n"
   ]
  },
  {
   "cell_type": "code",
   "execution_count": 99,
   "metadata": {},
   "outputs": [
    {
     "data": {
      "text/plain": [
       "10-element Array{Float64,1}:\n",
       " 10.0\n",
       " 10.0\n",
       " 10.0\n",
       " 10.0\n",
       " 10.0\n",
       " -5.0\n",
       " -5.0\n",
       " -5.0\n",
       " -5.0\n",
       " -5.0"
      ]
     },
     "metadata": {},
     "output_type": "display_data"
    },
    {
     "data": {
      "text/plain": [
       "10100.933489964815"
      ]
     },
     "metadata": {},
     "output_type": "display_data"
    },
    {
     "name": "stdout",
     "output_type": "stream",
     "text": [
      "  3.429308 seconds (6.26 M allocations: 292.293 MiB, 1.40% gc time)\n"
     ]
    }
   ],
   "source": [
    "## Setting up the drift and stochastic portions\n",
    "\n",
    "function drift_nn!(du,u,p,t)\n",
    "    du[1:d] = -(A*u + B.*p[1:d] .+ t)\n",
    "end\n",
    "\n",
    "function stoch_nn!(du,u,p,t)\n",
    "    du[1:d] = p[1:d]\n",
    "end\n",
    "\n",
    "probSDE = SDEProblem(drift_nn!,stoch_nn!,p[end-d+1:end],tspan,p=p)\n",
    "tmp_prob = remake(probSDE,p=p,u0=p[end-d+1:end])\n",
    "ensemble_prob = gpu(EnsembleProblem(tmp_prob))\n",
    "@time sol = solve(ensemble_prob,EM(),saveat = T,EnsembleThreads(), trajectories=1000,dt=0.05)\n",
    "arrsol = Array(sol)\n",
    "\n",
    "function loss(p)\n",
    "    tmp_prob = remake(probSDE,p=p,u0=p[end-d+1:end])\n",
    "    ensemble_prob = gpu(EnsembleProblem(tmp_prob))\n",
    "    sim = solve(ensemble_prob,EM(),saveat = T,EnsembleThreads(),trajectories=1000, dt=0.05)\n",
    "    arrsol = Array(sim)\n",
    "    loss = sum((m .- mean(arrsol,dims=3)[:,2]).^2) + sum((v .- var(arrsol,dims=3)[:,2]).^2)\n",
    "end\n",
    "\n",
    "display(p)\n",
    "display(loss(p))"
   ]
  },
  {
   "cell_type": "code",
   "execution_count": 100,
   "metadata": {},
   "outputs": [
    {
     "name": "stderr",
     "output_type": "stream",
     "text": [
      "\u001b[32mloss: 27.6: 100%|███████████████████████████████████████| Time: 0:01:24\u001b[39m\n"
     ]
    },
    {
     "name": "stdout",
     "output_type": "stream",
     "text": [
      "100.164111 seconds (291.03 M allocations: 19.809 GiB, 6.42% gc time)\n"
     ]
    },
    {
     "name": "stderr",
     "output_type": "stream",
     "text": [
      "\u001b[32mloss: 3.78: 100%|███████████████████████████████████████| Time: 0:01:25\u001b[39m\n"
     ]
    },
    {
     "name": "stdout",
     "output_type": "stream",
     "text": [
      " 89.666151 seconds (273.06 M allocations: 18.979 GiB, 7.47% gc time)\n"
     ]
    },
    {
     "name": "stderr",
     "output_type": "stream",
     "text": [
      "\u001b[32mloss: 0.197: 100%|██████████████████████████████████████| Time: 0:03:39\u001b[39m\n"
     ]
    },
    {
     "data": {
      "text/plain": [
       "10-element Array{Float64,1}:\n",
       " 1.3124705366280471\n",
       " 1.3277106112429153\n",
       " 1.4195204402488046\n",
       " 1.4488634906156754\n",
       " 1.474578704509947\n",
       " 6.145850029386997\n",
       " 6.188714543551074\n",
       " 6.2487628910875115\n",
       " 6.291254170056632\n",
       " 6.266248937122043"
      ]
     },
     "metadata": {},
     "output_type": "display_data"
    },
    {
     "name": "stdout",
     "output_type": "stream",
     "text": [
      "223.874741 seconds (682.64 M allocations: 47.448 GiB, 7.02% gc time)\n"
     ]
    }
   ],
   "source": [
    "### Training the model\n",
    "\n",
    "opt = ADAM(1.0)\n",
    "@time res = DiffEqFlux.sciml_train(loss,p,opt, maxiters = 20)\n",
    "\n",
    "opt = ADAM(0.1)\n",
    "@time res2 = DiffEqFlux.sciml_train(loss,res.minimizer,opt, maxiters = 20)\n",
    "\n",
    "opt = ADAM(0.01)\n",
    "@time res3 = DiffEqFlux.sciml_train(loss,res2.minimizer,opt, maxiters = 50)\n",
    "\n",
    "display(res3.minimizer)"
   ]
  },
  {
   "cell_type": "code",
   "execution_count": 104,
   "metadata": {},
   "outputs": [
    {
     "data": {
      "text/plain": [
       "5.255397752635412"
      ]
     },
     "execution_count": 104,
     "metadata": {},
     "output_type": "execute_result"
    }
   ],
   "source": [
    "ℯ^(3/2) + (2*ℯ^(3/2)-2)/9"
   ]
  },
  {
   "cell_type": "markdown",
   "metadata": {},
   "source": [
    "The two values don't match up entirely, however, that is unclear if it is because $Z_t$ is supposed to be not a constant in this scenario, but I have constrained it to be a constant, or if I haven't let the parameters update enough, or something else. "
   ]
  }
 ],
 "metadata": {
  "kernelspec": {
   "display_name": "Julia 1.4.0",
   "language": "julia",
   "name": "julia-1.4"
  },
  "language_info": {
   "file_extension": ".jl",
   "mimetype": "application/julia",
   "name": "julia",
   "version": "1.4.0"
  }
 },
 "nbformat": 4,
 "nbformat_minor": 4
}
